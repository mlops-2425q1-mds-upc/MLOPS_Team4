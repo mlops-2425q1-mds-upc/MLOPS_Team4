{
 "cells": [
  {
   "cell_type": "code",
   "execution_count": 5,
   "id": "d77faf9a-27b4-4a8a-a8b8-7f9bd0da9004",
   "metadata": {},
   "outputs": [],
   "source": [
    "import torch"
   ]
  },
  {
   "cell_type": "code",
   "execution_count": 6,
   "id": "0f13a30c-f130-44b7-9f9d-0bf571127db6",
   "metadata": {},
   "outputs": [
    {
     "name": "stderr",
     "output_type": "stream",
     "text": [
      "usage: ipykernel_launcher.py [-h] [--datadir DATADIR]\n",
      "ipykernel_launcher.py: error: unrecognized arguments: -f /Users/dani/Library/Jupyter/runtime/kernel-a4cf0582-43a1-45ea-811a-e5ee364dbf87.json\n"
     ]
    },
    {
     "ename": "SystemExit",
     "evalue": "2",
     "output_type": "error",
     "traceback": [
      "An exception has occurred, use %tb to see the full traceback.\n",
      "\u001b[0;31mSystemExit\u001b[0m\u001b[0;31m:\u001b[0m 2\n"
     ]
    },
    {
     "name": "stderr",
     "output_type": "stream",
     "text": [
      "/Users/dani/Desktop/MLOPS_Team4/venv/lib/python3.12/site-packages/IPython/core/interactiveshell.py:3585: UserWarning: To exit: use 'exit', 'quit', or Ctrl-D.\n",
      "  warn(\"To exit: use 'exit', 'quit', or Ctrl-D.\", stacklevel=1)\n"
     ]
    }
   ],
   "source": [
    "import argparse\n",
    "import os\n",
    "import random\n",
    "from glob import glob\n",
    "\n",
    "random.seed(0)\n",
    "\n",
    "def main(args):\n",
    "    for split in ['train', 'test']:\n",
    "        samples = []\n",
    "        for class_label in ['pos', 'neg']:\n",
    "            fnames = glob(os.path.join(args.datadir, split, class_label) + '/*.txt')\n",
    "            for fname in fnames:\n",
    "                with open(fname) as fin:\n",
    "                    line = fin.readline()\n",
    "                    samples.append((line, 1 if class_label == 'pos' else 0))\n",
    "        random.shuffle(samples)\n",
    "        out_fname = 'train' if split == 'train' else 'dev'\n",
    "        f1 = open(os.path.join(args.datadir, out_fname + '.input0'), 'w')\n",
    "        f2 = open(os.path.join(args.datadir, out_fname + '.label'), 'w')\n",
    "        for sample in samples:\n",
    "            f1.write(sample[0] + '\\n')\n",
    "            f2.write(str(sample[1]) + '\\n')\n",
    "        f1.close()\n",
    "        f2.close()\n",
    "\n",
    "if __name__ == '__main__':\n",
    "    parser = argparse.ArgumentParser()\n",
    "    parser.add_argument('--datadir', default='aclImdb')\n",
    "    args = parser.parse_args()\n",
    "    main(args)"
   ]
  },
  {
   "cell_type": "code",
   "execution_count": 36,
   "id": "0c3f8470-e0f1-4488-843a-947003f0a956",
   "metadata": {},
   "outputs": [],
   "source": [
    "import argparse\n",
    "import os\n",
    "import random\n",
    "from glob import glob\n",
    "import csv"
   ]
  },
  {
   "cell_type": "markdown",
   "id": "cded0c2f-010f-4629-9795-c93c99ef9ace",
   "metadata": {},
   "source": [
    "# Interim -> processed (dev.input0, dev.label, train.input0, train.label)"
   ]
  },
  {
   "cell_type": "code",
   "execution_count": 35,
   "id": "56d21646-91ee-46d3-848b-a0dc41e17d85",
   "metadata": {},
   "outputs": [],
   "source": [
    "import csv\n",
    "for split in ['train', 'test']:\n",
    "    samples = []\n",
    "    args_datadir = \"~/Desktop/MLOPS_Team4/data\" ## ARGS later\n",
    "    csv_path = os.path.join(os.path.expanduser(args_datadir), \"interim\", f\"{split}_tweets.csv\")\n",
    "    with open(csv_path, mode='r', newline='', encoding='utf-8') as file:\n",
    "        csv_reader = csv.reader(file)\n",
    "        for line in csv_reader:\n",
    "            if line[0] == 'pos':\n",
    "                label = 1\n",
    "            elif line[0] == 'neg':\n",
    "                label = 0\n",
    "            elif line[0] == 'neu':\n",
    "                label = 2\n",
    "            else:\n",
    "                continue  # Skip lines with unexpected labels\n",
    "            samples.append((line[1], label))\n",
    "    random.shuffle(samples)\n",
    "    out_fname = 'train' if split == 'train' else 'dev'\n",
    "\n",
    "    f1 = open(os.path.join(os.path.expanduser(args_datadir), \"processed\", out_fname + '.input0'), 'w')\n",
    "    f2 = open(os.path.join(os.path.expanduser(args_datadir), \"processed\", out_fname + '.label'), 'w')\n",
    "    for sample in samples:\n",
    "        f1.write(sample[0] + '\\n')\n",
    "        f2.write(str(sample[1]) + '\\n')\n",
    "    f1.close()\n",
    "    f2.close()"
   ]
  },
  {
   "cell_type": "markdown",
   "id": "f170a557-bd73-450b-8477-66fd2a20f397",
   "metadata": {},
   "source": [
    "# Multiprocessing BPE encoder"
   ]
  },
  {
   "cell_type": "code",
   "execution_count": 6,
   "id": "21e768a2-78fe-4e25-8e47-047736325efc",
   "metadata": {},
   "outputs": [
    {
     "ename": "ModuleNotFoundError",
     "evalue": "No module named 'fairseq'",
     "output_type": "error",
     "traceback": [
      "\u001b[0;31m---------------------------------------------------------------------------\u001b[0m",
      "\u001b[0;31mModuleNotFoundError\u001b[0m                       Traceback (most recent call last)",
      "Cell \u001b[0;32mIn[6], line 13\u001b[0m\n\u001b[1;32m     11\u001b[0m \u001b[38;5;28;01mfrom\u001b[39;00m \u001b[38;5;21;01mcollections\u001b[39;00m \u001b[38;5;28;01mimport\u001b[39;00m Counter\n\u001b[1;32m     12\u001b[0m \u001b[38;5;28;01mfrom\u001b[39;00m \u001b[38;5;21;01mmultiprocessing\u001b[39;00m \u001b[38;5;28;01mimport\u001b[39;00m Pool\n\u001b[0;32m---> 13\u001b[0m \u001b[38;5;28;01mfrom\u001b[39;00m \u001b[38;5;21;01mfairseq\u001b[39;00m\u001b[38;5;21;01m.\u001b[39;00m\u001b[38;5;21;01mdata\u001b[39;00m\u001b[38;5;21;01m.\u001b[39;00m\u001b[38;5;21;01mencoders\u001b[39;00m\u001b[38;5;21;01m.\u001b[39;00m\u001b[38;5;21;01mgpt2_bpe\u001b[39;00m \u001b[38;5;28;01mimport\u001b[39;00m get_encoder\n\u001b[1;32m     16\u001b[0m \u001b[38;5;28;01mdef\u001b[39;00m \u001b[38;5;21mencode\u001b[39m(line):\n\u001b[1;32m     17\u001b[0m         \u001b[38;5;28;01mglobal\u001b[39;00m bpe\n",
      "\u001b[0;31mModuleNotFoundError\u001b[0m: No module named 'fairseq'"
     ]
    }
   ],
   "source": [
    "encoder_json = \"/Users/dani/Desktop/MLOPS_Team4/data/external/encoder.json\"\n",
    "vocab_bpe = \"/Users/dani/Desktop/MLOPS_Team4/data/external/vocab.bpe\" \n",
    "inputs_args = [\"/Users/dani/Desktop/MLOPS_Team4/data/processed/train.input0\"] \n",
    "outputs_args = [\"/Users/dani/Desktop/MLOPS_Team4/data/processed/train.input0.bpe\"]\n",
    "workers = 1 \n",
    "keep_empty = True\n",
    "\n",
    "import argparse\n",
    "import contextlib\n",
    "import sys\n",
    "from collections import Counter\n",
    "from multiprocessing import Pool\n",
    "from fairseq.data.encoders.gpt2_bpe import get_encoder\n",
    "\n",
    "\n",
    "def encode(line):\n",
    "        global bpe\n",
    "        ids = bpe.encode(line)\n",
    "        return list(map(str, ids))\n",
    "    \n",
    "def encode_lines(lines):\n",
    "        \"\"\"\n",
    "        Encode a set of lines. All lines will be encoded together.\n",
    "        \"\"\"\n",
    "        enc_lines = []\n",
    "        for line in lines:\n",
    "            line = line.strip()\n",
    "            if len(line) == 0 and not keep_empty:\n",
    "                return [\"EMPTY\", None]\n",
    "            tokens = encode(line)\n",
    "            enc_lines.append(\" \".join(tokens))\n",
    "        return [\"PASS\", enc_lines]\n",
    "\n",
    "with contextlib.ExitStack() as stack:\n",
    "        inputs = [\n",
    "            stack.enter_context(open(input, \"r\", encoding=\"utf-8\"))\n",
    "            if input != \"-\"\n",
    "            else sys.stdin\n",
    "            for input in inputs_args\n",
    "        ]\n",
    "        outputs = [\n",
    "            stack.enter_context(open(output, \"w\", encoding=\"utf-8\"))\n",
    "            if output != \"-\"\n",
    "            else sys.stdout\n",
    "            for output in outputs_args\n",
    "        ]\n",
    "\n",
    "#encoder = MultiprocessingEncoder(args)\n",
    "global bpe\n",
    "bpe = get_encoder(encoder_json, vocab_bpe)\n",
    "pool = Pool(workers, initializer=bpe)\n",
    "encoded_lines = pool.imap(encode_lines, zip(*inputs), 100)\n",
    "\n",
    "stats = Counter()\n",
    "for i, (filt, enc_lines) in enumerate(encoded_lines, start=1):\n",
    "    if filt == \"PASS\":\n",
    "        for enc_line, output_h in zip(enc_lines, outputs):\n",
    "            print(enc_line, file=output_h)\n",
    "    else:\n",
    "        stats[\"num_filtered_\" + filt] += 1\n",
    "    if i % 10000 == 0:\n",
    "        print(\"processed {} lines\".format(i), file=sys.stderr)\n",
    "\n",
    "for k, v in stats.most_common():\n",
    "    print(\"[{}] filtered {} lines\".format(k, v), file=sys.stderr)"
   ]
  },
  {
   "cell_type": "code",
   "execution_count": 7,
   "id": "a2434f85-1706-4cc1-aad1-8ace4ee28ab1",
   "metadata": {},
   "outputs": [
    {
     "name": "stdout",
     "output_type": "stream",
     "text": [
      "Collecting fairseq==0.12.1\n",
      "  Using cached fairseq-0.12.1.tar.gz (9.6 MB)\n",
      "  Installing build dependencies ... \u001b[?25ldone\n",
      "\u001b[?25h  Getting requirements to build wheel ... \u001b[?25lerror\n",
      "  \u001b[1;31merror\u001b[0m: \u001b[1msubprocess-exited-with-error\u001b[0m\n",
      "  \n",
      "  \u001b[31m×\u001b[0m \u001b[32mGetting requirements to build wheel\u001b[0m did not run successfully.\n",
      "  \u001b[31m│\u001b[0m exit code: \u001b[1;36m1\u001b[0m\n",
      "  \u001b[31m╰─>\u001b[0m \u001b[31m[19 lines of output]\u001b[0m\n",
      "  \u001b[31m   \u001b[0m Traceback (most recent call last):\n",
      "  \u001b[31m   \u001b[0m   File \"/Users/dani/Desktop/MLOPS_Team4/venv/lib/python3.12/site-packages/pip/_vendor/pyproject_hooks/_in_process/_in_process.py\", line 353, in <module>\n",
      "  \u001b[31m   \u001b[0m     main()\n",
      "  \u001b[31m   \u001b[0m   File \"/Users/dani/Desktop/MLOPS_Team4/venv/lib/python3.12/site-packages/pip/_vendor/pyproject_hooks/_in_process/_in_process.py\", line 335, in main\n",
      "  \u001b[31m   \u001b[0m     json_out['return_val'] = hook(**hook_input['kwargs'])\n",
      "  \u001b[31m   \u001b[0m                              ^^^^^^^^^^^^^^^^^^^^^^^^^^^^\n",
      "  \u001b[31m   \u001b[0m   File \"/Users/dani/Desktop/MLOPS_Team4/venv/lib/python3.12/site-packages/pip/_vendor/pyproject_hooks/_in_process/_in_process.py\", line 118, in get_requires_for_build_wheel\n",
      "  \u001b[31m   \u001b[0m     return hook(config_settings)\n",
      "  \u001b[31m   \u001b[0m            ^^^^^^^^^^^^^^^^^^^^^\n",
      "  \u001b[31m   \u001b[0m   File \"/private/var/folders/h5/c1h968lx1kq5wzv3v6ft53jw0000gn/T/pip-build-env-0o97bu4n/overlay/lib/python3.12/site-packages/setuptools/build_meta.py\", line 332, in get_requires_for_build_wheel\n",
      "  \u001b[31m   \u001b[0m     return self._get_build_requires(config_settings, requirements=[])\n",
      "  \u001b[31m   \u001b[0m            ^^^^^^^^^^^^^^^^^^^^^^^^^^^^^^^^^^^^^^^^^^^^^^^^^^^^^^^^^^\n",
      "  \u001b[31m   \u001b[0m   File \"/private/var/folders/h5/c1h968lx1kq5wzv3v6ft53jw0000gn/T/pip-build-env-0o97bu4n/overlay/lib/python3.12/site-packages/setuptools/build_meta.py\", line 302, in _get_build_requires\n",
      "  \u001b[31m   \u001b[0m     self.run_setup()\n",
      "  \u001b[31m   \u001b[0m   File \"/private/var/folders/h5/c1h968lx1kq5wzv3v6ft53jw0000gn/T/pip-build-env-0o97bu4n/overlay/lib/python3.12/site-packages/setuptools/build_meta.py\", line 318, in run_setup\n",
      "  \u001b[31m   \u001b[0m     exec(code, locals())\n",
      "  \u001b[31m   \u001b[0m   File \"<string>\", line 27, in <module>\n",
      "  \u001b[31m   \u001b[0m   File \"<string>\", line 18, in write_version_py\n",
      "  \u001b[31m   \u001b[0m FileNotFoundError: [Errno 2] No such file or directory: 'fairseq/version.txt'\n",
      "  \u001b[31m   \u001b[0m \u001b[31m[end of output]\u001b[0m\n",
      "  \n",
      "  \u001b[1;35mnote\u001b[0m: This error originates from a subprocess, and is likely not a problem with pip.\n",
      "\u001b[1;31merror\u001b[0m: \u001b[1msubprocess-exited-with-error\u001b[0m\n",
      "\n",
      "\u001b[31m×\u001b[0m \u001b[32mGetting requirements to build wheel\u001b[0m did not run successfully.\n",
      "\u001b[31m│\u001b[0m exit code: \u001b[1;36m1\u001b[0m\n",
      "\u001b[31m╰─>\u001b[0m See above for output.\n",
      "\n",
      "\u001b[1;35mnote\u001b[0m: This error originates from a subprocess, and is likely not a problem with pip.\n",
      "\u001b[?25h"
     ]
    }
   ],
   "source": [
    "!pip install fairseq==0.12.1"
   ]
  }
 ],
 "metadata": {
  "kernelspec": {
   "display_name": "venv",
   "language": "python",
   "name": "venv"
  },
  "language_info": {
   "codemirror_mode": {
    "name": "ipython",
    "version": 3
   },
   "file_extension": ".py",
   "mimetype": "text/x-python",
   "name": "python",
   "nbconvert_exporter": "python",
   "pygments_lexer": "ipython3",
   "version": "3.12.6"
  }
 },
 "nbformat": 4,
 "nbformat_minor": 5
}
